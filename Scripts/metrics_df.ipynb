{
 "cells": [
  {
   "cell_type": "code",
   "execution_count": 4,
   "metadata": {},
   "outputs": [
    {
     "name": "stdout",
     "output_type": "stream",
     "text": [
      "      Random Forest  WaterPrecipitationVSYear\n",
      "MAE           12.61                     16.74\n",
      "RMSE          15.58                     22.01\n",
      "MSE          242.66                    484.60\n",
      "R^2            0.12                      0.01\n"
     ]
    }
   ],
   "source": [
    "import pandas as pd\n",
    "\n",
    "# Create data for the table\n",
    "data = {\n",
    "    'Random Forest': [12.61, 15.58, 242.66, .12],\n",
    "    'WaterPrecipitationVSYear': [16.74, 22.01, 484.60, .01],\n",
    "}\n",
    "\n",
    "# Define row names (indices)\n",
    "row_names = ['MAE', 'RMSE', 'MSE', 'R^2']\n",
    "\n",
    "# Create the DataFrame\n",
    "df = pd.DataFrame(data, index=row_names)\n",
    "\n",
    "# Display the DataFrame\n",
    "print(df)\n"
   ]
  },
  {
   "cell_type": "markdown",
   "metadata": {},
   "source": [
    "Model Performance Metrics for Tehama:\n",
    "Mean Absolute Error (MAE): 12.61\n",
    "Root Mean Squared Error (RMSE): 15.58\n",
    "R² Score: 0.12\n",
    "Mean Squared Error (MSE): 242.66"
   ]
  },
  {
   "cell_type": "markdown",
   "metadata": {},
   "source": [
    "Water precipitation versus the year. \n",
    "  Mean Absolute Error (MAE): 16.74\n",
    "  Mean Squared Error (MSE): 484.60\n",
    "  Root Mean Squared Error (RMSE): 22.01\n",
    "  R² Score: 0.01\n",
    "  "
   ]
  }
 ],
 "metadata": {
  "kernelspec": {
   "display_name": "Python 3",
   "language": "python",
   "name": "python3"
  },
  "language_info": {
   "codemirror_mode": {
    "name": "ipython",
    "version": 3
   },
   "file_extension": ".py",
   "mimetype": "text/x-python",
   "name": "python",
   "nbconvert_exporter": "python",
   "pygments_lexer": "ipython3",
   "version": "3.11.5"
  }
 },
 "nbformat": 4,
 "nbformat_minor": 2
}
